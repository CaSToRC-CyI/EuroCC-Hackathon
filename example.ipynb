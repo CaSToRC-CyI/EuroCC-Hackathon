{
 "cells": [
  {
   "cell_type": "markdown",
   "metadata": {},
   "source": [
    "## Configure Ollama for inference"
   ]
  },
  {
   "cell_type": "code",
   "execution_count": null,
   "metadata": {},
   "outputs": [],
   "source": [
    "import os\n",
    "\n",
    "OLLAMA_ENDPOINT=\"http://sim01:41527\"\n",
    "os.environ['OLLAMA_HOST']=OLLAMA_ENDPOINT\n"
   ]
  },
  {
   "cell_type": "code",
   "execution_count": null,
   "metadata": {},
   "outputs": [],
   "source": [
    "from langchain_community.chat_models import ChatOllama\n",
    "\n",
    "local_llm = \"gemma2:27b\"\n",
    "num_ctx=25000\n",
    "llm = ChatOllama(model=local_llm, base_url=OLLAMA_ENDPOINT, temperature=0, num_ctx=num_ctx)"
   ]
  },
  {
   "cell_type": "markdown",
   "metadata": {},
   "source": [
    "### Prompt your local LLM"
   ]
  },
  {
   "cell_type": "code",
   "execution_count": null,
   "metadata": {},
   "outputs": [],
   "source": [
    "from langchain_core.messages import AIMessage\n",
    "\n",
    "messages = [\n",
    "    (\n",
    "        \"system\",\n",
    "        \"You are a helpful assistant that translates English to French. Translate the user sentence. Don't respond in json\",\n",
    "    ),\n",
    "    (\"human\", \"I love programming. Tell me if you also love programming\"),\n",
    "]\n",
    "ai_msg = llm.invoke(messages)\n",
    "ai_msg.pretty_print()"
   ]
  },
  {
   "cell_type": "markdown",
   "metadata": {},
   "source": [
    "## Helper functions and starting point"
   ]
  },
  {
   "cell_type": "markdown",
   "metadata": {},
   "source": [
    "### Go through the patient files"
   ]
  },
  {
   "cell_type": "code",
   "execution_count": null,
   "metadata": {},
   "outputs": [],
   "source": [
    "import pandas as pd\n",
    "\n",
    "# Load the Excel file\n",
    "file_path = '/nvme/h/gkosta/data_p184/hackathon.xlsx'\n",
    "excel_data = pd.ExcelFile(file_path)\n",
    "\n",
    "patient_data = []\n",
    "\n",
    "# Iterate over each sheet in the Excel file\n",
    "for sheet_name in excel_data.sheet_names:\n",
    "    if sheet_name.startswith(\"PATIENT\"):\n",
    "        # Read the patient sheet\n",
    "        patient_df = pd.read_excel(file_path, sheet_name=sheet_name, header=None)\n",
    "        \n",
    "        # Extract the patient's age\n",
    "        patient_age = patient_df.at[0, 1]\n",
    "        \n",
    "        # Iterate over rows to extract multiple entries\n",
    "        row = 2\n",
    "        while row < len(patient_df) and pd.notna(patient_df.at[row, 0]):  # Continue until we find an empty cell in the drug name column\n",
    "            patient_info = {\n",
    "                'Patient_ID': sheet_name.split()[-1],\n",
    "                'Age': patient_age,\n",
    "                'Drug_Name': patient_df.at[row, 0],\n",
    "                'Dosage': patient_df.at[row, 1],\n",
    "                'Frequency': patient_df.at[row, 2],\n",
    "                'Route': patient_df.at[row, 3],\n",
    "                'Allergies': patient_df.at[row, 7],\n",
    "                'Illnesses': patient_df.at[row, 9]\n",
    "            }\n",
    "            \n",
    "            # Append the extracted information to the list\n",
    "            patient_data.append(patient_info)\n",
    "            \n",
    "            row += 1\n",
    "\n",
    "# Convert the list of dictionaries to a DataFrame\n",
    "all_patients_df = pd.DataFrame(patient_data)\n",
    "all_patients_df.set_index(['Patient_ID'],inplace=True)\n",
    "\n",
    "all_patients_df.head(5)"
   ]
  },
  {
   "cell_type": "markdown",
   "metadata": {},
   "source": [
    "### Simple getter function to access one patient file"
   ]
  },
  {
   "cell_type": "code",
   "execution_count": null,
   "metadata": {},
   "outputs": [],
   "source": [
    "def get_patient(id=str|int):\n",
    "    if type(id)==str:\n",
    "        return all_patients_df[all_patients_df.index==id]\n",
    "    elif type(id)==int:\n",
    "        return all_patients_df[all_patients_df.index==str(id)]\n",
    "    else:\n",
    "        raise TypeError(\"expecting int or str of patient id\")"
   ]
  },
  {
   "cell_type": "markdown",
   "metadata": {},
   "source": [
    "### Starting your RAG journey"
   ]
  },
  {
   "cell_type": "code",
   "execution_count": null,
   "metadata": {},
   "outputs": [],
   "source": [
    "from langchain_community.document_loaders import PyPDFLoader\n",
    "from tqdm import tqdm\n",
    "directory='medicine_files'\n",
    "files = [f for f in os.listdir(directory) if f.endswith('.pdf')]\n",
    "\n",
    "all_splits = []\n",
    "\n",
    "for file_name in tqdm(files):\n",
    "    file_path = os.path.join(directory, file_name)\n",
    "    # print(f\"Processing {file_path}...\")  # Optional: for tracking progress\n",
    "\n",
    "    # Load the PDF\n",
    "    loader = PyPDFLoader(file_path)\n",
    "\n",
    "    ... ###FIXEME: search for RAG and Langchain maybe"
   ]
  }
 ],
 "metadata": {
  "language_info": {
   "name": "python"
  }
 },
 "nbformat": 4,
 "nbformat_minor": 2
}
